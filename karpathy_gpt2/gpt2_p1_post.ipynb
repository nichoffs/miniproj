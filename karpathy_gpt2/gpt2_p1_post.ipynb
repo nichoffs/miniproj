{
 "cells": [
  {
   "cell_type": "markdown",
   "metadata": {},
   "source": [
    "# GPT2 Inference and Loading Setup"
   ]
  },
  {
   "cell_type": "markdown",
   "metadata": {},
   "source": [
    "GPT2 has four models from 124M to 1.5B\n",
    "\n",
    "We'll focus on 124M. The 124M model has 12 layers and 768 embedding dimension.\n",
    "\n",
    "To load the pre-trained GPT2, the names of the parameters of each component(things like TransformerBlock, Attention) must match the hugging face names. First, we'll analyze these names, and then build the instantiation of the GPT(without any internal logic)."
   ]
  },
  {
   "cell_type": "code",
   "execution_count": 43,
   "metadata": {},
   "outputs": [],
   "source": [
    "from tinygrad import Tensor, dtypes\n",
    "from tinygrad.nn import Embedding, Linear, LayerNorm\n",
    "from tinygrad.nn.state import torch_load, load_state_dict, get_state_dict, get_parameters\n",
    "from tqdm import tqdm, trange\n",
    "from tinygrad.nn.optim import AdamW\n",
    "from dataclasses import dataclass\n",
    "from tinygrad.helpers import fetch\n",
    "import tiktoken\n",
    "import numpy as np\n",
    "import os\n",
    "import matplotlib.pyplot as plt"
   ]
  },
  {
   "cell_type": "code",
   "execution_count": 44,
   "metadata": {},
   "outputs": [
    {
     "data": {
      "text/plain": [
       "dict_keys(['wte.weight', 'wpe.weight', 'h.0.ln_1.weight', 'h.0.ln_1.bias', 'h.0.attn.bias', 'h.0.attn.c_attn.weight', 'h.0.attn.c_attn.bias', 'h.0.attn.c_proj.weight', 'h.0.attn.c_proj.bias', 'h.0.ln_2.weight', 'h.0.ln_2.bias', 'h.0.mlp.c_fc.weight', 'h.0.mlp.c_fc.bias', 'h.0.mlp.c_proj.weight', 'h.0.mlp.c_proj.bias', 'h.1.ln_1.weight', 'h.1.ln_1.bias', 'h.1.attn.bias', 'h.1.attn.c_attn.weight', 'h.1.attn.c_attn.bias', 'h.1.attn.c_proj.weight', 'h.1.attn.c_proj.bias', 'h.1.ln_2.weight', 'h.1.ln_2.bias', 'h.1.mlp.c_fc.weight', 'h.1.mlp.c_fc.bias', 'h.1.mlp.c_proj.weight', 'h.1.mlp.c_proj.bias', 'h.2.ln_1.weight', 'h.2.ln_1.bias', 'h.2.attn.bias', 'h.2.attn.c_attn.weight', 'h.2.attn.c_attn.bias', 'h.2.attn.c_proj.weight', 'h.2.attn.c_proj.bias', 'h.2.ln_2.weight', 'h.2.ln_2.bias', 'h.2.mlp.c_fc.weight', 'h.2.mlp.c_fc.bias', 'h.2.mlp.c_proj.weight', 'h.2.mlp.c_proj.bias', 'h.3.ln_1.weight', 'h.3.ln_1.bias', 'h.3.attn.bias', 'h.3.attn.c_attn.weight', 'h.3.attn.c_attn.bias', 'h.3.attn.c_proj.weight', 'h.3.attn.c_proj.bias', 'h.3.ln_2.weight', 'h.3.ln_2.bias', 'h.3.mlp.c_fc.weight', 'h.3.mlp.c_fc.bias', 'h.3.mlp.c_proj.weight', 'h.3.mlp.c_proj.bias', 'h.4.ln_1.weight', 'h.4.ln_1.bias', 'h.4.attn.bias', 'h.4.attn.c_attn.weight', 'h.4.attn.c_attn.bias', 'h.4.attn.c_proj.weight', 'h.4.attn.c_proj.bias', 'h.4.ln_2.weight', 'h.4.ln_2.bias', 'h.4.mlp.c_fc.weight', 'h.4.mlp.c_fc.bias', 'h.4.mlp.c_proj.weight', 'h.4.mlp.c_proj.bias', 'h.5.ln_1.weight', 'h.5.ln_1.bias', 'h.5.attn.bias', 'h.5.attn.c_attn.weight', 'h.5.attn.c_attn.bias', 'h.5.attn.c_proj.weight', 'h.5.attn.c_proj.bias', 'h.5.ln_2.weight', 'h.5.ln_2.bias', 'h.5.mlp.c_fc.weight', 'h.5.mlp.c_fc.bias', 'h.5.mlp.c_proj.weight', 'h.5.mlp.c_proj.bias', 'h.6.ln_1.weight', 'h.6.ln_1.bias', 'h.6.attn.bias', 'h.6.attn.c_attn.weight', 'h.6.attn.c_attn.bias', 'h.6.attn.c_proj.weight', 'h.6.attn.c_proj.bias', 'h.6.ln_2.weight', 'h.6.ln_2.bias', 'h.6.mlp.c_fc.weight', 'h.6.mlp.c_fc.bias', 'h.6.mlp.c_proj.weight', 'h.6.mlp.c_proj.bias', 'h.7.ln_1.weight', 'h.7.ln_1.bias', 'h.7.attn.bias', 'h.7.attn.c_attn.weight', 'h.7.attn.c_attn.bias', 'h.7.attn.c_proj.weight', 'h.7.attn.c_proj.bias', 'h.7.ln_2.weight', 'h.7.ln_2.bias', 'h.7.mlp.c_fc.weight', 'h.7.mlp.c_fc.bias', 'h.7.mlp.c_proj.weight', 'h.7.mlp.c_proj.bias', 'h.8.ln_1.weight', 'h.8.ln_1.bias', 'h.8.attn.bias', 'h.8.attn.c_attn.weight', 'h.8.attn.c_attn.bias', 'h.8.attn.c_proj.weight', 'h.8.attn.c_proj.bias', 'h.8.ln_2.weight', 'h.8.ln_2.bias', 'h.8.mlp.c_fc.weight', 'h.8.mlp.c_fc.bias', 'h.8.mlp.c_proj.weight', 'h.8.mlp.c_proj.bias', 'h.9.ln_1.weight', 'h.9.ln_1.bias', 'h.9.attn.bias', 'h.9.attn.c_attn.weight', 'h.9.attn.c_attn.bias', 'h.9.attn.c_proj.weight', 'h.9.attn.c_proj.bias', 'h.9.ln_2.weight', 'h.9.ln_2.bias', 'h.9.mlp.c_fc.weight', 'h.9.mlp.c_fc.bias', 'h.9.mlp.c_proj.weight', 'h.9.mlp.c_proj.bias', 'h.10.ln_1.weight', 'h.10.ln_1.bias', 'h.10.attn.bias', 'h.10.attn.c_attn.weight', 'h.10.attn.c_attn.bias', 'h.10.attn.c_proj.weight', 'h.10.attn.c_proj.bias', 'h.10.ln_2.weight', 'h.10.ln_2.bias', 'h.10.mlp.c_fc.weight', 'h.10.mlp.c_fc.bias', 'h.10.mlp.c_proj.weight', 'h.10.mlp.c_proj.bias', 'h.11.ln_1.weight', 'h.11.ln_1.bias', 'h.11.attn.bias', 'h.11.attn.c_attn.weight', 'h.11.attn.c_attn.bias', 'h.11.attn.c_proj.weight', 'h.11.attn.c_proj.bias', 'h.11.ln_2.weight', 'h.11.ln_2.bias', 'h.11.mlp.c_fc.weight', 'h.11.mlp.c_fc.bias', 'h.11.mlp.c_proj.weight', 'h.11.mlp.c_proj.bias', 'ln_f.weight', 'ln_f.bias'])"
      ]
     },
     "execution_count": 44,
     "metadata": {},
     "output_type": "execute_result"
    }
   ],
   "source": [
    "weights = torch_load(fetch(f'https://huggingface.co/gpt2/resolve/main/pytorch_model.bin'))\n",
    "get_state_dict(weights).keys()"
   ]
  },
  {
   "cell_type": "markdown",
   "metadata": {},
   "source": [
    "Transformer-Level Names:\n",
    "* Token Embedding(weight only) = `wte`\n",
    "* Positional Embedding(weight only) = `wpe`\n",
    "* Transformer Block(see below) at layer `n` = `h.n`\n",
    "* Final Layer-Norm(weight+bias): `ln_f`\n",
    "\n",
    "Notice there is no logit head at the end. This is because GPT2 shares the token embedding and output head. To be able to use lm_head with the correct weights, we have to manually set this.\n",
    "\n",
    "I've also noticed there's a `bias` for each attention block representing the attention mask. We don't need this, and TinyGrad will automatically ignore it when loading weights. \n",
    "\n",
    "Transformer-Block Names:\n",
    "* Attention Pre-Norm(weight+bias): `ln_1`\n",
    "* Attention(see below): `attn`\n",
    "* MLP Pre-Norm(weight+bias): `mlp`\n",
    "* MLP(see below): `mlp`\n",
    "\n",
    "Attention Names:\n",
    "* QKV projection(weight+bias): `c_attn`\n",
    "* Output Projection(weight+bias): `c_proj`\n",
    "\n",
    "MLP Names:\n",
    "* Expansion Projection(weight+bias): `c_fc`\n",
    "* Compression Projection(weight+bias): `c_proj`"
   ]
  },
  {
   "cell_type": "code",
   "execution_count": 45,
   "metadata": {},
   "outputs": [],
   "source": [
    "@dataclass\n",
    "class GPT2Config:\n",
    "    block_size: int = 1024\n",
    "    vocab_size: int = 50257\n",
    "    n_layer: int = 12\n",
    "    n_head: int = 12\n",
    "    n_embd: int = 768\n",
    "    norm_eps: float = 1e-5\n",
    "\n",
    "@dataclass\n",
    "class GPT2Small(GPT2Config):\n",
    "    pass\n",
    "\n",
    "@dataclass\n",
    "class GPT2Medium(GPT2Config):\n",
    "    n_layer: int = 24\n",
    "    n_head: int = 16\n",
    "    n_embd: int = 1024\n",
    "\n",
    "@dataclass\n",
    "class GPT2Large(GPT2Config):\n",
    "    n_layer: int = 36\n",
    "    n_head: int = 20\n",
    "    n_embd: int = 1280\n",
    "\n",
    "@dataclass\n",
    "class GPT2XL(GPT2Config):\n",
    "    n_layer: int = 48\n",
    "    n_head: int = 25\n",
    "    n_embd: int = 1600\n",
    "    \n",
    "MODEL_CONFIGS = {\n",
    "    'gpt2': GPT2Small,\n",
    "    'gpt2-medium': GPT2Medium,\n",
    "    'gpt2-large': GPT2Large,\n",
    "    'gpt2-xl': GPT2XL\n",
    "}\n",
    "\n",
    "class Attention:\n",
    "    def __init__(self, config : GPT2Config):\n",
    "        self.c_attn = Linear(config.n_embd, config.n_embd*3)\n",
    "        self.c_proj = Linear(config.n_embd, config.n_embd)\n",
    "\n",
    "class MLP:\n",
    "    def __init__(self, config : GPT2Config):\n",
    "        self.c_fc = Linear(config.n_embd, config.n_embd*4)\n",
    "        self.c_proj = Linear(config.n_embd*4, config.n_embd)\n",
    "\n",
    "class TransformerBlock:\n",
    "    def __init__(self, config : GPT2Config):\n",
    "        self.ln_1 = LayerNorm(config.n_embd, eps=config.norm_eps)\n",
    "        self.ln_2 = LayerNorm(config.n_embd, eps=config.norm_eps)\n",
    "        self.attn = Attention(config)\n",
    "        self.mlp = MLP(config)\n",
    "\n",
    "class GPT2:\n",
    "    def __init__(self, config : GPT2Config):\n",
    "        self.config = config\n",
    "\n",
    "        # self.decoder = []\n",
    "        self.wte = Embedding(config.vocab_size, config.n_embd)\n",
    "        self.wpe = Embedding(config.block_size, config.n_embd)\n",
    "        self.h = [TransformerBlock(config) for _ in range(config.n_layer)]\n",
    "        self.ln_f = LayerNorm(config.n_embd, eps=config.norm_eps)\n",
    "        self.lm_head = Linear(config.n_embd, config.vocab_size, bias=False)\n",
    "\n",
    "        self.wte.weight = self.lm_head.weight\n",
    "\n",
    "    @staticmethod\n",
    "    def build(MODEL_NAME):\n",
    "        \n",
    "        weights = torch_load(fetch(f'https://huggingface.co/{MODEL_NAME}/resolve/main/pytorch_model.bin'))\n",
    "        weights['lm_head.weight'] = weights['wte.weight']\n",
    "\n",
    "        # I believe this is necessary because TinyGrad linear matmul acts on the other side\n",
    "        transposed = ('attn.c_attn.weight', 'attn.c_proj.weight', 'mlp.c_fc.weight', 'mlp.c_proj.weight')\n",
    "        for k in weights:\n",
    "            if k.endswith(transposed):\n",
    "                weights[k] = weights[k].T\n",
    "\n",
    "        return load_state_dict(GPT2(MODEL_CONFIGS[MODEL_NAME]), weights)"
   ]
  },
  {
   "cell_type": "code",
   "execution_count": 46,
   "metadata": {},
   "outputs": [
    {
     "name": "stderr",
     "output_type": "stream",
     "text": [
      "ram used:  5.35 GB, lm_head.weight                                    : 100%|██████████| 149/149 [00:00<00:00, 225.32it/s]"
     ]
    },
    {
     "name": "stdout",
     "output_type": "stream",
     "text": [
      "loaded weights in 663.70 ms, 0.65 GB loaded at 0.98 GB/s\n"
     ]
    },
    {
     "name": "stderr",
     "output_type": "stream",
     "text": [
      "\n"
     ]
    }
   ],
   "source": [
    "GPT2.build('gpt2')"
   ]
  },
  {
   "cell_type": "markdown",
   "metadata": {},
   "source": [
    "Now that the we can load the parameters, let's get into the implementation of each component. The MLP is simplest, so that's a good starting point."
   ]
  },
  {
   "cell_type": "code",
   "execution_count": 47,
   "metadata": {},
   "outputs": [],
   "source": [
    "class MLP:\n",
    "    def __init__(self, config : GPT2Config):\n",
    "        self.c_fc = Linear(config.n_embd, config.n_embd*4)\n",
    "        self.c_proj = Linear(config.n_embd*4, config.n_embd)\n",
    "    def __call__(self, x):\n",
    "        x = self.c_fc(x).gelu()\n",
    "        x = self.c_proj(x)\n",
    "        return x"
   ]
  },
  {
   "cell_type": "markdown",
   "metadata": {},
   "source": [
    "Next is Attention, Multi-Headed Attention that is."
   ]
  },
  {
   "cell_type": "code",
   "execution_count": 48,
   "metadata": {},
   "outputs": [],
   "source": [
    "class Attention:\n",
    "    def __init__(self, config: GPT2Config):\n",
    "        self.config = config\n",
    "        self.c_attn = Linear(config.n_embd, config.n_embd*3)\n",
    "        self.c_proj = Linear(config.n_embd, config.n_embd)\n",
    "    def __call__(self, x):\n",
    "        B,T,C = x.shape\n",
    "\n",
    "        q, k, v = self.c_attn(x).split(C, dim=-1) #(B,T,3C) -> (B,T,C) x 3\n",
    "        split_heads = lambda x: x.view(B, T, self.config.n_head, self.config.n_embd//self.config.n_head).transpose(1,2)\n",
    "        q, k, v = map(split_heads, (q,k,v))\n",
    "\n",
    "        y = q.scaled_dot_product_attention(k, v, is_causal=True)\n",
    "        y = y.transpose(1, 2).contiguous().view(B, T, C)\n",
    "        y = self.c_proj(y)\n",
    "\n",
    "        return y"
   ]
  },
  {
   "cell_type": "markdown",
   "metadata": {},
   "source": [
    "Then the transformer block, which is fairly simple."
   ]
  },
  {
   "cell_type": "code",
   "execution_count": 49,
   "metadata": {},
   "outputs": [],
   "source": [
    "class TransformerBlock:\n",
    "    def __init__(self, config : GPT2Config):\n",
    "        self.ln_1 = LayerNorm(config.n_embd, eps=config.norm_eps)\n",
    "        self.ln_2 = LayerNorm(config.n_embd, eps=config.norm_eps)\n",
    "        self.attn = Attention(config)\n",
    "        self.mlp = MLP(config)\n",
    "    def __call__(self, x):\n",
    "        x = x + self.attn(self.ln_1(x))\n",
    "        x = x + self.mlp(self.ln_2(x))\n",
    "        return x"
   ]
  },
  {
   "cell_type": "markdown",
   "metadata": {},
   "source": [
    "And finishing it off with our GPT2 class."
   ]
  },
  {
   "cell_type": "code",
   "execution_count": 50,
   "metadata": {},
   "outputs": [],
   "source": [
    "class GPT2:\n",
    "    def __init__(self, config : GPT2Config = GPT2Small):\n",
    "        self.config = config\n",
    "\n",
    "        self.wte = Embedding(config.vocab_size, config.n_embd)\n",
    "        self.wpe = Embedding(config.block_size, config.n_embd)\n",
    "        self.h = [TransformerBlock(config) for _ in range(config.n_layer)]\n",
    "        self.ln_f = LayerNorm(config.n_embd, config.norm_eps)\n",
    "        self.lm_head = Linear(config.n_embd, config.vocab_size, bias=False)\n",
    "\n",
    "        # tie weights - HUGE SAVINGS\n",
    "        self.lm_head.weight = self.wte.weight\n",
    "    \n",
    "    \n",
    "    def __call__(self, idx):\n",
    "        B,T = idx.shape\n",
    "\n",
    "        assert T <= self.config.block_size, f\"Cannot forward, model block size is {self.config.block_size} but got sequence of length {T}\"\n",
    "        pos = Tensor.arange(0, T, dtype=dtypes.long) # (T,)\n",
    "        pos_emb = self.wpe(pos) # (T,) -> (T,C)\n",
    "        tok_emb = self.wte(idx) # (B,T) -> (B,T,C)\n",
    "\n",
    "        x = tok_emb + pos_emb\n",
    "        x = x.sequential(self.h)\n",
    "\n",
    "        x = self.ln_f(x)\n",
    "        logits = self.lm_head(x) # (B,T,C) -> (B,T,V)\n",
    "\n",
    "        return logits\n",
    "\n",
    "    @staticmethod\n",
    "    def build(MODEL_NAME):\n",
    "        \n",
    "        weights = torch_load(fetch(f'https://huggingface.co/{MODEL_NAME}/resolve/main/pytorch_model.bin'))\n",
    "\n",
    "        transposed = ('attn.c_attn.weight', 'attn.c_proj.weight', 'mlp.c_fc.weight', 'mlp.c_proj.weight')\n",
    "        for k in weights:\n",
    "            if k.endswith(transposed):\n",
    "                weights[k] = weights[k].T\n",
    "\n",
    "        weights['lm_head.weight'] = weights['wte.weight']\n",
    "        model = GPT2(MODEL_CONFIGS[MODEL_NAME])\n",
    "        load_state_dict(model, weights)\n",
    "\n",
    "        return model"
   ]
  },
  {
   "cell_type": "code",
   "execution_count": 51,
   "metadata": {},
   "outputs": [],
   "source": [
    "# taken from https://github.com/tinygrad/tinygrad/blob/97b05f567e8e42a2475f8a063fb080b200f6f033/extra/models/mask_rcnn.py\n",
    "def topk(input_, k, dim=-1, largest=True, sorted=False):\n",
    "  k = min(k, input_.shape[dim]-1)\n",
    "  input_ = input_.numpy()\n",
    "  if largest: input_ *= -1\n",
    "  ind = np.argpartition(input_, k, axis=dim)\n",
    "  if largest: input_ *= -1\n",
    "  ind = np.take(ind, np.arange(k), axis=dim) # k non-sorted indices\n",
    "  input_ = np.take_along_axis(input_, ind, axis=dim) # k non-sorted values\n",
    "  if not sorted: return Tensor(input_), Tensor(ind)\n",
    "  if largest: input_ *= -1\n",
    "  ind_part = np.argsort(input_, axis=dim)\n",
    "  ind = np.take_along_axis(ind, ind_part, axis=dim)\n",
    "  if largest: input_ *= -1\n",
    "  val = np.take_along_axis(input_, ind_part, axis=dim)\n",
    "  return Tensor(val), Tensor(ind)"
   ]
  },
  {
   "cell_type": "code",
   "execution_count": 52,
   "metadata": {},
   "outputs": [
    {
     "name": "stderr",
     "output_type": "stream",
     "text": [
      "ram used:  7.94 GB, lm_head.weight                                    : 100%|██████████| 437/437 [00:01<00:00, 255.50it/s]\n"
     ]
    },
    {
     "name": "stdout",
     "output_type": "stream",
     "text": [
      "loaded weights in 1712.19 ms, 3.35 GB loaded at 1.96 GB/s\n",
      "> What is the meaning of life? What is our purpose in this world? Is there another meaning?\" In terms of the meaning of life, the answer\n",
      "> What is the meaning of life? What is God? What is eternity? When did Adam first become alive? Does God exist? Is God a being\n",
      "> What is the meaning of life? How does the life of a human being and all of its consequences and results mean to us? How can it be\n",
      "> What is the meaning of life?\n",
      "\n",
      "Well, how in the world are you going to survive?\n",
      "\n",
      "What is life?\n",
      "\n",
      "Well\n",
      "> What is the meaning of life?\n",
      "\n",
      "Some people may claim that there is nothing to live for but a mere struggle for existence, a contest for\n"
     ]
    }
   ],
   "source": [
    "num_return_sequences = 5\n",
    "max_length = 30\n",
    "\n",
    "enc = tiktoken.get_encoding(\"gpt2\")\n",
    "tokens = enc.encode(\"What is the meaning of life?\")\n",
    "x = Tensor(tokens, dtype=dtypes.long).unsqueeze(0).repeat(num_return_sequences, 1)\n",
    "\n",
    "model = GPT2.build('gpt2-large')\n",
    "\n",
    "#does this do anything?\n",
    "Tensor.no_grad = True\n",
    "Tensor.training = False\n",
    "while x.shape[1] < max_length:\n",
    "    logits = model(x)\n",
    "    logits = logits[:, -1, :]\n",
    "    probs = logits.softmax(-1)\n",
    "    topk_probs, topk_indices = topk(probs, 50, dim=-1)\n",
    "    ix = topk_probs.multinomial(1)\n",
    "    xcol = topk_indices.gather(-1, ix)\n",
    "    x = x.cat(xcol, dim=1)\n",
    "\n",
    "for i in range(num_return_sequences):\n",
    "    tokens = x[i, :max_length].numpy().tolist()\n",
    "    decoded = enc.decode(tokens)\n",
    "    print(\">\", decoded)"
   ]
  },
  {
   "cell_type": "markdown",
   "metadata": {},
   "source": [
    "# **YES!**\n",
    "\n",
    "Let's try random init."
   ]
  },
  {
   "cell_type": "code",
   "execution_count": 12,
   "metadata": {},
   "outputs": [
    {
     "name": "stdout",
     "output_type": "stream",
     "text": [
      "> Hello, I'm a language model, Yellowstone naughtyagic problemsStrong Intakeleaf quantify� Intake Debate Winchester Frem wrestling stations sufficiently 裏覚醒 drying Tut Tut stations practitioners\n",
      "> Hello, I'm a language model,ngagicticksized Cheneyleafahah starved Ubisoft sufficiently naughty stations Zac neb Yor Ubisoft Marineng Lob substantial denounced coincides\n",
      "> Hello, I'm a language model,Workhair Khalid projectingames Ubisoftfollow proceeded quantifyStrong stations resignation WinchesterleafCloseGhostGhost problems Kelley Winchester needless righteousness\n",
      "> Hello, I'm a language model, Khalid naughtytickWorkahah Yellowstone relief quantify Marine sufficiently resignationran tigers stationsbalance Theater neb Accountabilityogh Tut Debate join\n",
      "> Hello, I'm a language model, Tut Marineagic mob relief wrestling?!\" Debate Marineng neb applause TutWorktick sufficiently extravag Yellowstone illuminatingng Marine pathology\n"
     ]
    }
   ],
   "source": [
    "num_return_sequences = 5\n",
    "max_length = 30\n",
    "\n",
    "enc = tiktoken.get_encoding(\"gpt2\")\n",
    "tokens = enc.encode(\"Hello, I'm a language model,\")\n",
    "x = Tensor(tokens, dtype=dtypes.long).unsqueeze(0).repeat(num_return_sequences, 1)\n",
    "\n",
    "model = GPT2(GPT2Small)\n",
    "\n",
    "#does this do anything?\n",
    "Tensor.no_grad = True\n",
    "Tensor.training = False\n",
    "while x.shape[1] < max_length:\n",
    "    logits = model(x)\n",
    "    logits = logits[:, -1, :]\n",
    "    probs = logits.softmax(-1)\n",
    "    topk_probs, topk_indices = topk(probs, 50, dim=-1)\n",
    "    ix = topk_probs.multinomial(1)\n",
    "    xcol = topk_indices.gather(-1, ix)\n",
    "    x = x.cat(xcol, dim=1)\n",
    "\n",
    "for i in range(num_return_sequences):\n",
    "    tokens = x[i, :max_length].numpy().tolist()\n",
    "    decoded = enc.decode(tokens)\n",
    "    print(\">\", decoded)"
   ]
  },
  {
   "cell_type": "markdown",
   "metadata": {},
   "source": [
    "# Training"
   ]
  },
  {
   "cell_type": "markdown",
   "metadata": {},
   "source": [
    "To begin, we'll need some data to train on. We'll load up the tiny-shakespeare dataset in classic karpathy style."
   ]
  },
  {
   "cell_type": "code",
   "execution_count": 13,
   "metadata": {},
   "outputs": [
    {
     "name": "stdout",
     "output_type": "stream",
     "text": [
      "First Citizen:\n",
      "Before we proceed any further, hear me speak.\n",
      "\n",
      "All:\n",
      "Speak, speak.\n",
      "\n",
      "First Citizen:\n",
      "You\n"
     ]
    }
   ],
   "source": [
    "with open(\"../datasets/shake.txt\", \"r\") as f:\n",
    "    text = f.read()\n",
    "data = text[:1000]\n",
    "encoded_data = enc.encode(data)\n",
    "print(data[:100])"
   ]
  },
  {
   "cell_type": "markdown",
   "metadata": {},
   "source": [
    "Using `view` allows us to quickly text into (B,T) sequences. As you can see, it lays things out side by side. `reshape` would do the same.\n",
    "\n",
    "For every batch `B` of text with length `T`, we need to retrieve `B*T+1`."
   ]
  },
  {
   "cell_type": "code",
   "execution_count": 14,
   "metadata": {},
   "outputs": [
    {
     "name": "stdout",
     "output_type": "stream",
     "text": [
      "[[ 5962 22307    25   198  8421   356]\n",
      " [ 5120   597  2252    11  3285   502]\n",
      " [ 2740    13   198   198  3237    25]\n",
      " [  198  5248   461    11  2740    13]] [[22307    25   198  8421   356  5120]\n",
      " [  597  2252    11  3285   502  2740]\n",
      " [   13   198   198  3237    25   198]\n",
      " [ 5248   461    11  2740    13   198]]\n"
     ]
    }
   ],
   "source": [
    "buf = Tensor(encoded_data[:24+1])\n",
    "batch = lambda x: x.view(4,6)\n",
    "x = batch(buf[:-1])\n",
    "y = batch(buf[1:])\n",
    "print(x.numpy(),y.numpy())"
   ]
  },
  {
   "cell_type": "markdown",
   "metadata": {},
   "source": [
    "Instead of including the loss calculation in some external training method, we can directly adapt the forward pass to accept labels and return the loss (as well as logits like we've already done).\n",
    "\n",
    "`logits` will have shape `(B,T,V)` and targets will be `(B,T)`. `sparse_categorical_crossentropy` requires the input to be `(N, num_classes)`, where `num_classes` is `V` in our case."
   ]
  },
  {
   "cell_type": "code",
   "execution_count": 56,
   "metadata": {},
   "outputs": [],
   "source": [
    "class GPT2:\n",
    "    def __init__(self, config : GPT2Config = GPT2Small):\n",
    "        self.config = config\n",
    "\n",
    "        self.wte = Embedding(config.vocab_size, config.n_embd)\n",
    "        self.wpe = Embedding(config.block_size, config.n_embd)\n",
    "        self.h = [TransformerBlock(config) for _ in range(config.n_layer)]\n",
    "        self.ln_f = LayerNorm(config.n_embd, config.norm_eps)\n",
    "        self.lm_head = Linear(config.n_embd, config.vocab_size, bias=False)\n",
    "\n",
    "        # tie weights - HUGE SAVINGS\n",
    "        self.lm_head.weight = self.wte.weight\n",
    "    \n",
    "    def __call__(self, idx, targets=None):\n",
    "        B,T = idx.shape\n",
    "\n",
    "        assert T <= self.config.block_size, f\"Cannot forward, model block size is {self.config.block_size} but got sequence of length {T}\"\n",
    "        pos = Tensor.arange(0, T, dtype=dtypes.long) # (T,)\n",
    "        pos_emb = self.wpe(pos) # (T,) -> (T,C)\n",
    "        tok_emb = self.wte(idx) # (B,T) -> (B,T,C)\n",
    "\n",
    "        x = tok_emb + pos_emb\n",
    "        x = x.sequential(self.h)\n",
    "\n",
    "        x = self.ln_f(x)\n",
    "        logits = self.lm_head(x) # (B,T,C) -> (B,T,V)\n",
    "\n",
    "        if targets is not None:\n",
    "            loss = logits.flatten(0,1).sparse_categorical_crossentropy(targets.flatten())\n",
    "            return logits, loss.realize()\n",
    "\n",
    "        return logits, None\n",
    "\n",
    "    @staticmethod\n",
    "    def build(MODEL_NAME):\n",
    "        \n",
    "        weights = torch_load(fetch(f'https://huggingface.co/{MODEL_NAME}/resolve/main/pytorch_model.bin'))\n",
    "\n",
    "        transposed = ('attn.c_attn.weight', 'attn.c_proj.weight', 'mlp.c_fc.weight', 'mlp.c_proj.weight')\n",
    "        for k in weights:\n",
    "            if k.endswith(transposed):\n",
    "                weights[k] = weights[k].T\n",
    "\n",
    "        weights['lm_head.weight'] = weights['wte.weight']\n",
    "        model = GPT2(MODEL_CONFIGS[MODEL_NAME])\n",
    "        load_state_dict(model, weights)\n",
    "\n",
    "        return model"
   ]
  },
  {
   "cell_type": "markdown",
   "metadata": {},
   "source": [
    "Around 11 -- does this seem right for the negative log likelihood of a uniform distribution over 50,257 classes?"
   ]
  },
  {
   "cell_type": "code",
   "execution_count": 72,
   "metadata": {},
   "outputs": [
    {
     "data": {
      "text/plain": [
       "10.82490511970208"
      ]
     },
     "execution_count": 72,
     "metadata": {},
     "output_type": "execute_result"
    }
   ],
   "source": [
    "from math import log\n",
    "-log(1/50257)"
   ]
  },
  {
   "cell_type": "markdown",
   "metadata": {},
   "source": [
    "Yeah.\n",
    "\n",
    "Let's overfit a single batch to confirm training is working as expected."
   ]
  },
  {
   "cell_type": "code",
   "execution_count": 63,
   "metadata": {},
   "outputs": [
    {
     "name": "stderr",
     "output_type": "stream",
     "text": [
      "train loss: 0.02: 100%|██████████| 100/100 [00:39<00:00,  2.51it/s]\n"
     ]
    }
   ],
   "source": [
    "buf = Tensor(encoded_data[:24+1])\n",
    "batch = lambda x: x.view(4,6)\n",
    "x = batch(buf[:-1])\n",
    "y = batch(buf[1:])\n",
    "\n",
    "Tensor.training = True\n",
    "Tensor.no_grad = False\n",
    "model = GPT2(GPT2Small)\n",
    "optim = AdamW(get_parameters(model), lr=3e-4)\n",
    "losses = []\n",
    "for i in (t := trange(100)):\n",
    "    optim.zero_grad()\n",
    "    logits, loss = model(x,y)\n",
    "    losses.append(loss.numpy())\n",
    "    loss.backward()\n",
    "    optim.step()\n",
    "\n",
    "    t.set_description(\n",
    "        f\"train loss: {loss.numpy():.2f}\"\n",
    "    )"
   ]
  },
  {
   "cell_type": "code",
   "execution_count": 64,
   "metadata": {},
   "outputs": [
    {
     "data": {
      "text/plain": [
       "[<matplotlib.lines.Line2D at 0x34a097230>]"
      ]
     },
     "execution_count": 64,
     "metadata": {},
     "output_type": "execute_result"
    },
    {
     "data": {
      "image/png": "[encoded data removed]",
      "text/plain": [
       "<Figure size 1200x400 with 1 Axes>"
      ]
     },
     "metadata": {},
     "output_type": "display_data"
    }
   ],
   "source": [
    "plt.figure(figsize=(12,4))\n",
    "plt.plot(losses)"
   ]
  },
  {
   "cell_type": "code",
   "execution_count": 40,
   "metadata": {},
   "outputs": [],
   "source": [
    "class DataLoaderLite:\n",
    "    def __init__(self, B, T, file_path):\n",
    "        self.B=B\n",
    "        self.T=T\n",
    "\n",
    "        self.batch = lambda x: x.view(B,T)\n",
    "\n",
    "        with open(file_path, 'r') as f:\n",
    "            text = f.read()\n",
    "\n",
    "        enc = tiktoken.get_encoding('gpt2')\n",
    "\n",
    "        tokens = enc.encode(text)\n",
    "        self.tokens = Tensor(tokens, dtype=dtypes.long)\n",
    "\n",
    "        print(f\"loaded {len(self.tokens)} tokens\")\n",
    "        print(f\"1 epoch = {len(self.tokens) // (B*T)} batches\")\n",
    "\n",
    "        self.current_position = 0\n",
    "    \n",
    "    def next_batch(self):\n",
    "        B, T = self.B, self.T\n",
    "\n",
    "        buf = self.tokens[self.current_position:self.current_position + B*T+1]\n",
    "        x = self.batch(buf[:-1])\n",
    "        y = self.batch(buf[1:])\n",
    "        self.current_position += B*T\n",
    "\n",
    "        if self.current_position + (B*T+1) > len(self.tokens):\n",
    "            print(\"read entire document, resetting position...\")\n",
    "            self.current_position = 0\n",
    "\n",
    "        return x,y"
   ]
  },
  {
   "cell_type": "code",
   "execution_count": 67,
   "metadata": {},
   "outputs": [
    {
     "name": "stdout",
     "output_type": "stream",
     "text": [
      "loaded 338025 tokens\n",
      "1 epoch = 2640 batches\n"
     ]
    },
    {
     "name": "stderr",
     "output_type": "stream",
     "text": [
      "train loss: 6.71: 100%|██████████| 100/100 [00:57<00:00,  1.74it/s]\n"
     ]
    }
   ],
   "source": [
    "Tensor.training = True\n",
    "Tensor.no_grad = False\n",
    "model = GPT2(GPT2Small)\n",
    "optim = AdamW(get_parameters(model), lr=3e-4)\n",
    "dl = DataLoaderLite(4, 32, \"../datasets/shake.txt\")\n",
    "losses = []\n",
    "for i in (t := trange(100)):\n",
    "    x, y = dl.next_batch() \n",
    "    optim.zero_grad()\n",
    "    logits, loss = model(x,y)\n",
    "    losses.append(loss.numpy())\n",
    "    loss.backward()\n",
    "    optim.step()\n",
    "\n",
    "    t.set_description(\n",
    "        f\"train loss: {loss.numpy():.2f}\"\n",
    "    )"
   ]
  },
  {
   "cell_type": "code",
   "execution_count": 68,
   "metadata": {},
   "outputs": [
    {
     "data": {
      "text/plain": [
       "[<matplotlib.lines.Line2D at 0x6a58550d0>]"
      ]
     },
     "execution_count": 68,
     "metadata": {},
     "output_type": "execute_result"
    },
    {
     "data": {
      "image/png": "[encoded data removed]",
      "text/plain": [
       "<Figure size 640x480 with 1 Axes>"
      ]
     },
     "metadata": {},
     "output_type": "display_data"
    }
   ],
   "source": [
    "plt.plot(losses)"
   ]
  },
  {
   "cell_type": "markdown",
   "metadata": {},
   "source": [
    "Sweet! We now have a GPT2 model that we can run with pretrained weights and train."
   ]
  },
  {
   "cell_type": "code",
   "execution_count": null,
   "metadata": {},
   "outputs": [],
   "source": []
  }
 ],
 "metadata": {
  "kernelspec": {
   "display_name": "venv",
   "language": "python",
   "name": "python3"
  },
  "language_info": {
   "codemirror_mode": {
    "name": "ipython",
    "version": 3
   },
   "file_extension": ".py",
   "mimetype": "text/x-python",
   "name": "python",
   "nbconvert_exporter": "python",
   "pygments_lexer": "ipython3",
   "version": "3.12.3"
  }
 },
 "nbformat": 4,
 "nbformat_minor": 2
}
