{
 "cells": [
  {
   "cell_type": "code",
   "execution_count": 2,
   "metadata": {},
   "outputs": [],
   "source": [
    "from tinygrad import Tensor, dtypes, Device\n",
    "from tinygrad.nn import Embedding, Linear, LayerNorm\n",
    "from tinygrad.nn.state import torch_load, load_state_dict, get_state_dict, get_parameters\n",
    "from tqdm import tqdm, trange\n",
    "from tinygrad.nn.optim import AdamW\n",
    "from dataclasses import dataclass\n",
    "from tinygrad.helpers import fetch\n",
    "import tiktoken\n",
    "import numpy as np\n",
    "import os\n",
    "import matplotlib.pyplot as plt\n",
    "import time"
   ]
  },
  {
   "cell_type": "code",
   "execution_count": 3,
   "metadata": {},
   "outputs": [],
   "source": [
    "@dataclass\n",
    "class GPT2Config:\n",
    "    block_size: int = 1024\n",
    "    vocab_size: int = 50257\n",
    "    n_layer: int = 12\n",
    "    n_head: int = 12\n",
    "    n_embd: int = 768\n",
    "    norm_eps: float = 1e-5\n",
    "\n",
    "@dataclass\n",
    "class GPT2Small(GPT2Config):\n",
    "    pass\n",
    "\n",
    "@dataclass\n",
    "class GPT2Medium(GPT2Config):\n",
    "    n_layer: int = 24\n",
    "    n_head: int = 16\n",
    "    n_embd: int = 1024\n",
    "\n",
    "@dataclass\n",
    "class GPT2Large(GPT2Config):\n",
    "    n_layer: int = 36\n",
    "    n_head: int = 20\n",
    "    n_embd: int = 1280\n",
    "\n",
    "@dataclass\n",
    "class GPT2XL(GPT2Config):\n",
    "    n_layer: int = 48\n",
    "    n_head: int = 25\n",
    "    n_embd: int = 1600\n",
    "    \n",
    "MODEL_CONFIGS = {\n",
    "    'gpt2': GPT2Small,\n",
    "    'gpt2-medium': GPT2Medium,\n",
    "    'gpt2-large': GPT2Large,\n",
    "    'gpt2-xl': GPT2XL\n",
    "}"
   ]
  },
  {
   "cell_type": "code",
   "execution_count": 4,
   "metadata": {},
   "outputs": [],
   "source": [
    "class MLP:\n",
    "    def __init__(self, config : GPT2Config):\n",
    "        self.c_fc = Linear(config.n_embd, config.n_embd*4)\n",
    "        self.c_proj = Linear(config.n_embd*4, config.n_embd)\n",
    "        self.c_proj.RESIDUAL_SCALING = 1\n",
    "    def __call__(self, x):\n",
    "        x = self.c_fc(x).gelu()\n",
    "        x = self.c_proj(x)\n",
    "        return x"
   ]
  },
  {
   "cell_type": "code",
   "execution_count": 5,
   "metadata": {},
   "outputs": [],
   "source": [
    "class Attention:\n",
    "    def __init__(self, config: GPT2Config):\n",
    "        self.config = config\n",
    "        self.c_attn = Linear(config.n_embd, config.n_embd*3)\n",
    "        self.c_proj = Linear(config.n_embd, config.n_embd)\n",
    "        self.c_proj.RESIDUAL_SCALING = 1\n",
    "    def __call__(self, x):\n",
    "        B,T,C = x.shape\n",
    "\n",
    "        q, k, v = self.c_attn(x).split(C, dim=-1) #(B,T,3C) -> (B,T,C) x 3\n",
    "        split_heads = lambda x: x.view(B, T, self.config.n_head, self.config.n_embd//self.config.n_head).transpose(1,2)\n",
    "        q, k, v = map(split_heads, (q,k,v))\n",
    "\n",
    "        y = q.scaled_dot_product_attention(k, v, is_causal=True)\n",
    "        y = y.transpose(1, 2).contiguous().view(B, T, C)\n",
    "        y = self.c_proj(y)\n",
    "\n",
    "        return y"
   ]
  },
  {
   "cell_type": "code",
   "execution_count": 6,
   "metadata": {},
   "outputs": [],
   "source": [
    "class TransformerBlock:\n",
    "    def __init__(self, config : GPT2Config):\n",
    "        self.ln_1 = LayerNorm(config.n_embd, eps=config.norm_eps)\n",
    "        self.ln_2 = LayerNorm(config.n_embd, eps=config.norm_eps)\n",
    "        self.attn = Attention(config)\n",
    "        self.mlp = MLP(config)\n",
    "    def __call__(self, x):\n",
    "        x = x + self.attn(self.ln_1(x))\n",
    "        x = x + self.mlp(self.ln_2(x))\n",
    "        return x"
   ]
  },
  {
   "cell_type": "markdown",
   "metadata": {},
   "source": [
    "Added new initialization scheme - .02 std and residual init"
   ]
  },
  {
   "cell_type": "code",
   "execution_count": 7,
   "metadata": {},
   "outputs": [],
   "source": [
    "class GPT2:\n",
    "    def __init__(self, config : GPT2Config = GPT2Small):\n",
    "        self.config = config\n",
    "\n",
    "        self.wte = Embedding(config.vocab_size, config.n_embd)\n",
    "        self.wpe = Embedding(config.block_size, config.n_embd)\n",
    "        self.h = [TransformerBlock(config) for _ in range(config.n_layer)]\n",
    "        self.ln_f = LayerNorm(config.n_embd, config.norm_eps)\n",
    "        self.lm_head = Linear(config.n_embd, config.vocab_size, bias=False)\n",
    "\n",
    "        # tie weights - HUGE SAVINGS\n",
    "        self.lm_head.weight = self.wte.weight\n",
    "\n",
    "        #init weights\n",
    "        for param in get_parameters(self):\n",
    "            self.init_weights(param)\n",
    "\n",
    "    def init_weights(self, param):\n",
    "        if isinstance(param, Linear):\n",
    "            std = .02\n",
    "            # apply residual scaling\n",
    "            if hasattr(param, 'RESIDUAL_SCALE'):\n",
    "                std *= (2 * self.config.n_layer) ** -0.5\n",
    "            param.weight = Tensor.normal(param.weight.shape, mean=0, std=std)\n",
    "            if isinstance(param, Linear) and param.bias is not None:\n",
    "                param.bias = Tensor.zeros_like(param.bias)\n",
    "        elif isinstance(param, Embedding):\n",
    "            param.weight = Tensor.normal(param.weight.shape, mean=0, std=.02)\n",
    "        \n",
    "    def __call__(self, idx, targets=None):\n",
    "        B,T = idx.shape\n",
    "\n",
    "        assert T <= self.config.block_size, f\"Cannot forward, model block size is {self.config.block_size} but got sequence of length {T}\"\n",
    "        pos = Tensor.arange(0, T, dtype=dtypes.long) # (T,)\n",
    "        pos_emb = self.wpe(pos) # (T,) -> (T,C)\n",
    "        tok_emb = self.wte(idx) # (B,T) -> (B,T,C)\n",
    "\n",
    "        x = tok_emb + pos_emb\n",
    "        x = x.sequential(self.h)\n",
    "\n",
    "        x = self.ln_f(x)\n",
    "        logits = self.lm_head(x) # (B,T,C) -> (B,T,V)\n",
    "\n",
    "        if targets is not None:\n",
    "            loss = logits.flatten(0,1).sparse_categorical_crossentropy(targets.flatten())\n",
    "            return logits, loss.realize()\n",
    "\n",
    "        return logits, None\n",
    "\n",
    "    @staticmethod\n",
    "    def build(MODEL_NAME):\n",
    "        \n",
    "        weights = torch_load(fetch(f'https://huggingface.co/{MODEL_NAME}/resolve/main/pytorch_model.bin'))\n",
    "\n",
    "        transposed = ('attn.c_attn.weight', 'attn.c_proj.weight', 'mlp.c_fc.weight', 'mlp.c_proj.weight')\n",
    "        for k in weights:\n",
    "            if k.endswith(transposed):\n",
    "                weights[k] = weights[k].T\n",
    "\n",
    "        weights['lm_head.weight'] = weights['wte.weight']\n",
    "        model = GPT2(MODEL_CONFIGS[MODEL_NAME])\n",
    "        load_state_dict(model, weights)\n",
    "\n",
    "        return model"
   ]
  },
  {
   "cell_type": "code",
   "execution_count": 8,
   "metadata": {},
   "outputs": [],
   "source": [
    "class DataLoaderLite:\n",
    "    def __init__(self, B, T, file_path):\n",
    "        self.B=B\n",
    "        self.T=T\n",
    "\n",
    "        self.batch = lambda x: x.view(B,T)\n",
    "\n",
    "        with open(file_path, 'r') as f:\n",
    "            text = f.read()\n",
    "\n",
    "        enc = tiktoken.get_encoding('gpt2')\n",
    "\n",
    "        tokens = enc.encode(text)\n",
    "        self.tokens = Tensor(tokens, dtype=dtypes.long)\n",
    "\n",
    "        print(f\"loaded {len(self.tokens)} tokens\")\n",
    "        print(f\"1 epoch = {len(self.tokens) // (B*T)} batches\")\n",
    "\n",
    "        self.current_position = 0\n",
    "    \n",
    "    def next_batch(self):\n",
    "        B, T = self.B, self.T\n",
    "\n",
    "        buf = self.tokens[self.current_position:self.current_position + B*T+1]\n",
    "        x = self.batch(buf[:-1])\n",
    "        y = self.batch(buf[1:])\n",
    "        self.current_position += B*T\n",
    "\n",
    "        if self.current_position + (B*T+1) > len(self.tokens):\n",
    "            print(\"read entire document, resetting position...\")\n",
    "            self.current_position = 0\n",
    "\n",
    "        return x,y"
   ]
  },
  {
   "cell_type": "markdown",
   "metadata": {},
   "source": [
    "Let's introduce a timing component."
   ]
  },
  {
   "cell_type": "code",
   "execution_count": 12,
   "metadata": {},
   "outputs": [
    {
     "name": "stdout",
     "output_type": "stream",
     "text": [
      "loaded 338025 tokens\n",
      "1 epoch = 2640 batches\n",
      "loss: 10.738481521606445 dt: 1145.21ms tok/sec: 0.11\n",
      "loss: 10.426529884338379 dt: 359.36ms tok/sec: 0.36\n",
      "loss: 9.95232105255127 dt: 485.65ms tok/sec: 0.26\n",
      "loss: 9.963018417358398 dt: 351.29ms tok/sec: 0.36\n",
      "loss: 9.617980003356934 dt: 488.79ms tok/sec: 0.26\n",
      "loss: 9.412365913391113 dt: 348.32ms tok/sec: 0.37\n",
      "loss: 9.586285591125488 dt: 485.55ms tok/sec: 0.26\n",
      "loss: 9.356305122375488 dt: 363.89ms tok/sec: 0.35\n",
      "loss: 8.88279914855957 dt: 506.09ms tok/sec: 0.25\n",
      "loss: 8.808915138244629 dt: 354.25ms tok/sec: 0.36\n"
     ]
    },
    {
     "ename": "KeyboardInterrupt",
     "evalue": "",
     "output_type": "error",
     "traceback": [
      "\u001b[0;31m---------------------------------------------------------------------------\u001b[0m",
      "\u001b[0;31mKeyboardInterrupt\u001b[0m                         Traceback (most recent call last)",
      "Cell \u001b[0;32mIn[12], line 15\u001b[0m\n\u001b[1;32m     13\u001b[0m x, y \u001b[38;5;241m=\u001b[39m dl\u001b[38;5;241m.\u001b[39mnext_batch()\n\u001b[1;32m     14\u001b[0m optim\u001b[38;5;241m.\u001b[39mzero_grad()\n\u001b[0;32m---> 15\u001b[0m logits, loss \u001b[38;5;241m=\u001b[39m \u001b[43mmodel\u001b[49m\u001b[43m(\u001b[49m\u001b[43mx\u001b[49m\u001b[43m,\u001b[49m\u001b[43m \u001b[49m\u001b[43my\u001b[49m\u001b[43m)\u001b[49m\n\u001b[1;32m     16\u001b[0m losses\u001b[38;5;241m.\u001b[39mappend(loss\u001b[38;5;241m.\u001b[39mnumpy())\n\u001b[1;32m     17\u001b[0m loss\u001b[38;5;241m.\u001b[39mbackward()\n",
      "Cell \u001b[0;32mIn[7], line 39\u001b[0m, in \u001b[0;36mGPT2.__call__\u001b[0;34m(self, idx, targets)\u001b[0m\n\u001b[1;32m     36\u001b[0m tok_emb \u001b[38;5;241m=\u001b[39m \u001b[38;5;28mself\u001b[39m\u001b[38;5;241m.\u001b[39mwte(idx) \u001b[38;5;66;03m# (B,T) -> (B,T,C)\u001b[39;00m\n\u001b[1;32m     38\u001b[0m x \u001b[38;5;241m=\u001b[39m tok_emb \u001b[38;5;241m+\u001b[39m pos_emb\n\u001b[0;32m---> 39\u001b[0m x \u001b[38;5;241m=\u001b[39m \u001b[43mx\u001b[49m\u001b[38;5;241;43m.\u001b[39;49m\u001b[43msequential\u001b[49m\u001b[43m(\u001b[49m\u001b[38;5;28;43mself\u001b[39;49m\u001b[38;5;241;43m.\u001b[39;49m\u001b[43mh\u001b[49m\u001b[43m)\u001b[49m\n\u001b[1;32m     41\u001b[0m x \u001b[38;5;241m=\u001b[39m \u001b[38;5;28mself\u001b[39m\u001b[38;5;241m.\u001b[39mln_f(x)\n\u001b[1;32m     42\u001b[0m logits \u001b[38;5;241m=\u001b[39m \u001b[38;5;28mself\u001b[39m\u001b[38;5;241m.\u001b[39mlm_head(x) \u001b[38;5;66;03m# (B,T,C) -> (B,T,V)\u001b[39;00m\n",
      "File \u001b[0;32m~/Projects/miniproj/venv/lib/python3.12/site-packages/tinygrad/tensor.py:2580\u001b[0m, in \u001b[0;36mTensor.sequential\u001b[0;34m(self, ll)\u001b[0m\n\u001b[1;32m   2571\u001b[0m \u001b[38;5;28;01mdef\u001b[39;00m \u001b[38;5;21msequential\u001b[39m(\u001b[38;5;28mself\u001b[39m, ll:List[Callable[[Tensor], Tensor]]):\n\u001b[1;32m   2572\u001b[0m \u001b[38;5;250m  \u001b[39m\u001b[38;5;124;03m\"\"\"\u001b[39;00m\n\u001b[1;32m   2573\u001b[0m \u001b[38;5;124;03m  Applies a sequence of functions to `self` chaining the output of each function to the input of the next.\u001b[39;00m\n\u001b[1;32m   2574\u001b[0m \n\u001b[0;32m   (...)\u001b[0m\n\u001b[1;32m   2578\u001b[0m \u001b[38;5;124;03m  ```\u001b[39;00m\n\u001b[1;32m   2579\u001b[0m \u001b[38;5;124;03m  \"\"\"\u001b[39;00m\n\u001b[0;32m-> 2580\u001b[0m   \u001b[38;5;28;01mreturn\u001b[39;00m \u001b[43mfunctools\u001b[49m\u001b[38;5;241;43m.\u001b[39;49m\u001b[43mreduce\u001b[49m\u001b[43m(\u001b[49m\u001b[38;5;28;43;01mlambda\u001b[39;49;00m\u001b[43m \u001b[49m\u001b[43mx\u001b[49m\u001b[43m,\u001b[49m\u001b[43mf\u001b[49m\u001b[43m:\u001b[49m\u001b[43m \u001b[49m\u001b[43mf\u001b[49m\u001b[43m(\u001b[49m\u001b[43mx\u001b[49m\u001b[43m)\u001b[49m\u001b[43m,\u001b[49m\u001b[43m \u001b[49m\u001b[43mll\u001b[49m\u001b[43m,\u001b[49m\u001b[43m \u001b[49m\u001b[38;5;28;43mself\u001b[39;49m\u001b[43m)\u001b[49m\n",
      "File \u001b[0;32m~/Projects/miniproj/venv/lib/python3.12/site-packages/tinygrad/tensor.py:2580\u001b[0m, in \u001b[0;36mTensor.sequential.<locals>.<lambda>\u001b[0;34m(x, f)\u001b[0m\n\u001b[1;32m   2571\u001b[0m \u001b[38;5;28;01mdef\u001b[39;00m \u001b[38;5;21msequential\u001b[39m(\u001b[38;5;28mself\u001b[39m, ll:List[Callable[[Tensor], Tensor]]):\n\u001b[1;32m   2572\u001b[0m \u001b[38;5;250m  \u001b[39m\u001b[38;5;124;03m\"\"\"\u001b[39;00m\n\u001b[1;32m   2573\u001b[0m \u001b[38;5;124;03m  Applies a sequence of functions to `self` chaining the output of each function to the input of the next.\u001b[39;00m\n\u001b[1;32m   2574\u001b[0m \n\u001b[0;32m   (...)\u001b[0m\n\u001b[1;32m   2578\u001b[0m \u001b[38;5;124;03m  ```\u001b[39;00m\n\u001b[1;32m   2579\u001b[0m \u001b[38;5;124;03m  \"\"\"\u001b[39;00m\n\u001b[0;32m-> 2580\u001b[0m   \u001b[38;5;28;01mreturn\u001b[39;00m functools\u001b[38;5;241m.\u001b[39mreduce(\u001b[38;5;28;01mlambda\u001b[39;00m x,f: \u001b[43mf\u001b[49m\u001b[43m(\u001b[49m\u001b[43mx\u001b[49m\u001b[43m)\u001b[49m, ll, \u001b[38;5;28mself\u001b[39m)\n",
      "Cell \u001b[0;32mIn[6], line 9\u001b[0m, in \u001b[0;36mTransformerBlock.__call__\u001b[0;34m(self, x)\u001b[0m\n\u001b[1;32m      7\u001b[0m \u001b[38;5;28;01mdef\u001b[39;00m \u001b[38;5;21m__call__\u001b[39m(\u001b[38;5;28mself\u001b[39m, x):\n\u001b[1;32m      8\u001b[0m     x \u001b[38;5;241m=\u001b[39m x \u001b[38;5;241m+\u001b[39m \u001b[38;5;28mself\u001b[39m\u001b[38;5;241m.\u001b[39mattn(\u001b[38;5;28mself\u001b[39m\u001b[38;5;241m.\u001b[39mln_1(x))\n\u001b[0;32m----> 9\u001b[0m     x \u001b[38;5;241m=\u001b[39m x \u001b[38;5;241m+\u001b[39m \u001b[38;5;28;43mself\u001b[39;49m\u001b[38;5;241;43m.\u001b[39;49m\u001b[43mmlp\u001b[49m\u001b[43m(\u001b[49m\u001b[38;5;28;43mself\u001b[39;49m\u001b[38;5;241;43m.\u001b[39;49m\u001b[43mln_2\u001b[49m\u001b[43m(\u001b[49m\u001b[43mx\u001b[49m\u001b[43m)\u001b[49m\u001b[43m)\u001b[49m\n\u001b[1;32m     10\u001b[0m     \u001b[38;5;28;01mreturn\u001b[39;00m x\n",
      "Cell \u001b[0;32mIn[4], line 7\u001b[0m, in \u001b[0;36mMLP.__call__\u001b[0;34m(self, x)\u001b[0m\n\u001b[1;32m      6\u001b[0m \u001b[38;5;28;01mdef\u001b[39;00m \u001b[38;5;21m__call__\u001b[39m(\u001b[38;5;28mself\u001b[39m, x):\n\u001b[0;32m----> 7\u001b[0m     x \u001b[38;5;241m=\u001b[39m \u001b[38;5;28;43mself\u001b[39;49m\u001b[38;5;241;43m.\u001b[39;49m\u001b[43mc_fc\u001b[49m\u001b[43m(\u001b[49m\u001b[43mx\u001b[49m\u001b[43m)\u001b[49m\u001b[38;5;241;43m.\u001b[39;49m\u001b[43mgelu\u001b[49m\u001b[43m(\u001b[49m\u001b[43m)\u001b[49m\n\u001b[1;32m      8\u001b[0m     x \u001b[38;5;241m=\u001b[39m \u001b[38;5;28mself\u001b[39m\u001b[38;5;241m.\u001b[39mc_proj(x)\n\u001b[1;32m      9\u001b[0m     \u001b[38;5;28;01mreturn\u001b[39;00m x\n",
      "File \u001b[0;32m~/Projects/miniproj/venv/lib/python3.12/site-packages/tinygrad/tensor.py:2201\u001b[0m, in \u001b[0;36mTensor.gelu\u001b[0;34m(self)\u001b[0m\n\u001b[1;32m   2190\u001b[0m \u001b[38;5;28;01mdef\u001b[39;00m \u001b[38;5;21mgelu\u001b[39m(\u001b[38;5;28mself\u001b[39m):\n\u001b[1;32m   2191\u001b[0m \u001b[38;5;250m  \u001b[39m\u001b[38;5;124;03m\"\"\"\u001b[39;00m\n\u001b[1;32m   2192\u001b[0m \u001b[38;5;124;03m  Applies the Gaussian Error Linear Unit (GELU) function element-wise.\u001b[39;00m\n\u001b[1;32m   2193\u001b[0m \n\u001b[0;32m   (...)\u001b[0m\n\u001b[1;32m   2199\u001b[0m \u001b[38;5;124;03m  ```\u001b[39;00m\n\u001b[1;32m   2200\u001b[0m \u001b[38;5;124;03m  \"\"\"\u001b[39;00m\n\u001b[0;32m-> 2201\u001b[0m   \u001b[38;5;28;01mreturn\u001b[39;00m \u001b[38;5;241m0.5\u001b[39m \u001b[38;5;241m*\u001b[39m \u001b[38;5;28mself\u001b[39m \u001b[38;5;241m*\u001b[39m (\u001b[38;5;241m1\u001b[39m \u001b[38;5;241m+\u001b[39m (\u001b[38;5;28;43mself\u001b[39;49m\u001b[43m \u001b[49m\u001b[38;5;241;43m*\u001b[39;49m\u001b[43m \u001b[49m\u001b[38;5;241;43m0.7978845608\u001b[39;49m \u001b[38;5;241m*\u001b[39m (\u001b[38;5;241m1\u001b[39m \u001b[38;5;241m+\u001b[39m \u001b[38;5;241m0.044715\u001b[39m \u001b[38;5;241m*\u001b[39m \u001b[38;5;28mself\u001b[39m \u001b[38;5;241m*\u001b[39m \u001b[38;5;28mself\u001b[39m))\u001b[38;5;241m.\u001b[39mtanh())\n",
      "File \u001b[0;32m~/Projects/miniproj/venv/lib/python3.12/site-packages/tinygrad/tensor.py:2520\u001b[0m, in \u001b[0;36mTensor.__mul__\u001b[0;34m(self, x)\u001b[0m\n\u001b[0;32m-> 2520\u001b[0m \u001b[38;5;28;01mdef\u001b[39;00m \u001b[38;5;21m__mul__\u001b[39m(\u001b[38;5;28mself\u001b[39m, x) \u001b[38;5;241m-\u001b[39m\u001b[38;5;241m>\u001b[39m Tensor: \u001b[38;5;28;01mreturn\u001b[39;00m \u001b[38;5;28;43mself\u001b[39;49m\u001b[38;5;241;43m.\u001b[39;49m\u001b[43mmul\u001b[49m\u001b[43m(\u001b[49m\u001b[43mx\u001b[49m\u001b[43m)\u001b[49m\n",
      "File \u001b[0;32m~/Projects/miniproj/venv/lib/python3.12/site-packages/tinygrad/tensor.py:2357\u001b[0m, in \u001b[0;36mTensor.mul\u001b[0;34m(self, x, reverse)\u001b[0m\n\u001b[1;32m   2339\u001b[0m \u001b[38;5;28;01mdef\u001b[39;00m \u001b[38;5;21mmul\u001b[39m(\u001b[38;5;28mself\u001b[39m, x:Union[Tensor, ConstType], reverse\u001b[38;5;241m=\u001b[39m\u001b[38;5;28;01mFalse\u001b[39;00m) \u001b[38;5;241m-\u001b[39m\u001b[38;5;241m>\u001b[39m Tensor:\n\u001b[1;32m   2340\u001b[0m \u001b[38;5;250m  \u001b[39m\u001b[38;5;124;03m\"\"\"\u001b[39;00m\n\u001b[1;32m   2341\u001b[0m \u001b[38;5;124;03m  Multiplies `self` and `x`.\u001b[39;00m\n\u001b[1;32m   2342\u001b[0m \u001b[38;5;124;03m  Equivalent to `self * x`.\u001b[39;00m\n\u001b[0;32m   (...)\u001b[0m\n\u001b[1;32m   2355\u001b[0m \u001b[38;5;124;03m  ```\u001b[39;00m\n\u001b[1;32m   2356\u001b[0m \u001b[38;5;124;03m  \"\"\"\u001b[39;00m\n\u001b[0;32m-> 2357\u001b[0m   \u001b[38;5;28;01mreturn\u001b[39;00m F\u001b[38;5;241m.\u001b[39mMul\u001b[38;5;241m.\u001b[39mapply(\u001b[38;5;241m*\u001b[39m\u001b[38;5;28;43mself\u001b[39;49m\u001b[38;5;241;43m.\u001b[39;49m\u001b[43m_broadcasted\u001b[49m\u001b[43m(\u001b[49m\u001b[43mx\u001b[49m\u001b[43m,\u001b[49m\u001b[43m \u001b[49m\u001b[43mreverse\u001b[49m\u001b[43m)\u001b[49m)\n",
      "File \u001b[0;32m~/Projects/miniproj/venv/lib/python3.12/site-packages/tinygrad/tensor.py:2292\u001b[0m, in \u001b[0;36mTensor._broadcasted\u001b[0;34m(self, y, reverse, match_dtype)\u001b[0m\n\u001b[1;32m   2290\u001b[0m \u001b[38;5;66;03m# broadcast\u001b[39;00m\n\u001b[1;32m   2291\u001b[0m out_shape \u001b[38;5;241m=\u001b[39m _broadcast_shape(x\u001b[38;5;241m.\u001b[39mshape, y\u001b[38;5;241m.\u001b[39mshape)\n\u001b[0;32m-> 2292\u001b[0m \u001b[38;5;28;01mreturn\u001b[39;00m x\u001b[38;5;241m.\u001b[39m_broadcast_to(out_shape), \u001b[43my\u001b[49m\u001b[38;5;241;43m.\u001b[39;49m\u001b[43m_broadcast_to\u001b[49m\u001b[43m(\u001b[49m\u001b[43mout_shape\u001b[49m\u001b[43m)\u001b[49m\n",
      "File \u001b[0;32m~/Projects/miniproj/venv/lib/python3.12/site-packages/tinygrad/tensor.py:2272\u001b[0m, in \u001b[0;36mTensor._broadcast_to\u001b[0;34m(self, shape)\u001b[0m\n\u001b[1;32m   2270\u001b[0m \u001b[38;5;28;01mif\u001b[39;00m \u001b[38;5;28mself\u001b[39m\u001b[38;5;241m.\u001b[39mndim \u001b[38;5;241m>\u001b[39m \u001b[38;5;28mlen\u001b[39m(shape) \u001b[38;5;129;01mor\u001b[39;00m \u001b[38;5;129;01mnot\u001b[39;00m \u001b[38;5;28mall\u001b[39m(sh \u001b[38;5;129;01min\u001b[39;00m {s,\u001b[38;5;241m1\u001b[39m} \u001b[38;5;129;01mor\u001b[39;00m (s\u001b[38;5;241m==\u001b[39m\u001b[38;5;241m0\u001b[39m \u001b[38;5;129;01mand\u001b[39;00m sh\u001b[38;5;241m==\u001b[39m\u001b[38;5;241m1\u001b[39m) \u001b[38;5;28;01mfor\u001b[39;00m sh,s \u001b[38;5;129;01min\u001b[39;00m \u001b[38;5;28mzip\u001b[39m(reshape_arg, shape)):\n\u001b[1;32m   2271\u001b[0m   \u001b[38;5;28;01mraise\u001b[39;00m \u001b[38;5;167;01mValueError\u001b[39;00m(\u001b[38;5;124mf\u001b[39m\u001b[38;5;124m\"\u001b[39m\u001b[38;5;124mcannot broadcast tensor with shape=\u001b[39m\u001b[38;5;132;01m{\u001b[39;00m\u001b[38;5;28mself\u001b[39m\u001b[38;5;241m.\u001b[39mshape\u001b[38;5;132;01m}\u001b[39;00m\u001b[38;5;124m to \u001b[39m\u001b[38;5;132;01m{\u001b[39;00mshape\u001b[38;5;132;01m=}\u001b[39;00m\u001b[38;5;124m\"\u001b[39m)\n\u001b[0;32m-> 2272\u001b[0m \u001b[38;5;28;01mreturn\u001b[39;00m F\u001b[38;5;241m.\u001b[39mExpand\u001b[38;5;241m.\u001b[39mapply(\u001b[38;5;28;43mself\u001b[39;49m\u001b[38;5;241;43m.\u001b[39;49m\u001b[43mreshape\u001b[49m\u001b[43m(\u001b[49m\u001b[43mreshape_arg\u001b[49m\u001b[43m)\u001b[49m, shape\u001b[38;5;241m=\u001b[39mshape) \u001b[38;5;28;01mif\u001b[39;00m shape \u001b[38;5;241m!=\u001b[39m \u001b[38;5;28mself\u001b[39m\u001b[38;5;241m.\u001b[39mshape \u001b[38;5;28;01melse\u001b[39;00m \u001b[38;5;28mself\u001b[39m\n",
      "File \u001b[0;32m~/Projects/miniproj/venv/lib/python3.12/site-packages/tinygrad/tensor.py:745\u001b[0m, in \u001b[0;36mTensor.reshape\u001b[0;34m(self, shape, *args)\u001b[0m\n\u001b[1;32m    743\u001b[0m new_shape \u001b[38;5;241m=\u001b[39m argfix(shape, \u001b[38;5;241m*\u001b[39margs)\n\u001b[1;32m    744\u001b[0m new_shape \u001b[38;5;241m=\u001b[39m \u001b[38;5;28mtuple\u001b[39m([\u001b[38;5;241m-\u001b[39mprod(\u001b[38;5;28mself\u001b[39m\u001b[38;5;241m.\u001b[39mshape) \u001b[38;5;241m/\u001b[39m\u001b[38;5;241m/\u001b[39m prod(new_shape) \u001b[38;5;28;01mif\u001b[39;00m s \u001b[38;5;241m==\u001b[39m \u001b[38;5;241m-\u001b[39m\u001b[38;5;241m1\u001b[39m \u001b[38;5;28;01melse\u001b[39;00m (s \u001b[38;5;28;01mif\u001b[39;00m s \u001b[38;5;129;01mis\u001b[39;00m \u001b[38;5;129;01mnot\u001b[39;00m \u001b[38;5;28;01mNone\u001b[39;00m \u001b[38;5;28;01melse\u001b[39;00m \u001b[38;5;28mself\u001b[39m\u001b[38;5;241m.\u001b[39mshape[i]) \u001b[38;5;28;01mfor\u001b[39;00m i,s \u001b[38;5;129;01min\u001b[39;00m \u001b[38;5;28menumerate\u001b[39m(new_shape)])\n\u001b[0;32m--> 745\u001b[0m \u001b[38;5;28;01mreturn\u001b[39;00m \u001b[43mF\u001b[49m\u001b[38;5;241;43m.\u001b[39;49m\u001b[43mReshape\u001b[49m\u001b[38;5;241;43m.\u001b[39;49m\u001b[43mapply\u001b[49m\u001b[43m(\u001b[49m\u001b[38;5;28;43mself\u001b[39;49m\u001b[43m,\u001b[49m\u001b[43m \u001b[49m\u001b[43mshape\u001b[49m\u001b[38;5;241;43m=\u001b[39;49m\u001b[43mnew_shape\u001b[49m\u001b[43m)\u001b[49m \u001b[38;5;28;01mif\u001b[39;00m new_shape \u001b[38;5;241m!=\u001b[39m \u001b[38;5;28mself\u001b[39m\u001b[38;5;241m.\u001b[39mshape \u001b[38;5;28;01melse\u001b[39;00m \u001b[38;5;28mself\u001b[39m\n",
      "File \u001b[0;32m~/Projects/miniproj/venv/lib/python3.12/site-packages/tinygrad/tensor.py:36\u001b[0m, in \u001b[0;36mFunction.apply\u001b[0;34m(fxn, *x, **kwargs)\u001b[0m\n\u001b[1;32m     34\u001b[0m ctx \u001b[38;5;241m=\u001b[39m fxn(x[\u001b[38;5;241m0\u001b[39m]\u001b[38;5;241m.\u001b[39mdevice, \u001b[38;5;241m*\u001b[39mx)\n\u001b[1;32m     35\u001b[0m ret \u001b[38;5;241m=\u001b[39m Tensor\u001b[38;5;241m.\u001b[39m\u001b[38;5;21m__new__\u001b[39m(Tensor)\n\u001b[0;32m---> 36\u001b[0m ret\u001b[38;5;241m.\u001b[39mlazydata, ret\u001b[38;5;241m.\u001b[39mrequires_grad, ret\u001b[38;5;241m.\u001b[39mgrad \u001b[38;5;241m=\u001b[39m \u001b[43mctx\u001b[49m\u001b[38;5;241;43m.\u001b[39;49m\u001b[43mforward\u001b[49m\u001b[43m(\u001b[49m\u001b[38;5;241;43m*\u001b[39;49m\u001b[43m[\u001b[49m\u001b[43mt\u001b[49m\u001b[38;5;241;43m.\u001b[39;49m\u001b[43mlazydata\u001b[49m\u001b[43m \u001b[49m\u001b[38;5;28;43;01mfor\u001b[39;49;00m\u001b[43m \u001b[49m\u001b[43mt\u001b[49m\u001b[43m \u001b[49m\u001b[38;5;129;43;01min\u001b[39;49;00m\u001b[43m \u001b[49m\u001b[43mx\u001b[49m\u001b[43m]\u001b[49m\u001b[43m,\u001b[49m\u001b[43m \u001b[49m\u001b[38;5;241;43m*\u001b[39;49m\u001b[38;5;241;43m*\u001b[39;49m\u001b[43mkwargs\u001b[49m\u001b[43m)\u001b[49m, ctx\u001b[38;5;241m.\u001b[39mrequires_grad, \u001b[38;5;28;01mNone\u001b[39;00m\n\u001b[1;32m     37\u001b[0m ret\u001b[38;5;241m.\u001b[39m_ctx \u001b[38;5;241m=\u001b[39m ctx \u001b[38;5;28;01mif\u001b[39;00m ctx\u001b[38;5;241m.\u001b[39mrequires_grad \u001b[38;5;129;01mand\u001b[39;00m \u001b[38;5;129;01mnot\u001b[39;00m Tensor\u001b[38;5;241m.\u001b[39mno_grad \u001b[38;5;28;01melse\u001b[39;00m \u001b[38;5;28;01mNone\u001b[39;00m  \u001b[38;5;66;03m# used by autograd engine\u001b[39;00m\n\u001b[1;32m     38\u001b[0m \u001b[38;5;28;01mreturn\u001b[39;00m ret\n",
      "File \u001b[0;32m~/Projects/miniproj/venv/lib/python3.12/site-packages/tinygrad/function.py:187\u001b[0m, in \u001b[0;36mReshape.forward\u001b[0;34m(self, x, shape)\u001b[0m\n\u001b[1;32m    185\u001b[0m \u001b[38;5;28;01mdef\u001b[39;00m \u001b[38;5;21mforward\u001b[39m(\u001b[38;5;28mself\u001b[39m, x:LazyBuffer, shape:Tuple[\u001b[38;5;28mint\u001b[39m, \u001b[38;5;241m.\u001b[39m\u001b[38;5;241m.\u001b[39m\u001b[38;5;241m.\u001b[39m]) \u001b[38;5;241m-\u001b[39m\u001b[38;5;241m>\u001b[39m LazyBuffer:\n\u001b[1;32m    186\u001b[0m   \u001b[38;5;28mself\u001b[39m\u001b[38;5;241m.\u001b[39minput_shape \u001b[38;5;241m=\u001b[39m x\u001b[38;5;241m.\u001b[39mshape\n\u001b[0;32m--> 187\u001b[0m   \u001b[38;5;28;01mreturn\u001b[39;00m \u001b[43mx\u001b[49m\u001b[38;5;241;43m.\u001b[39;49m\u001b[43mreshape\u001b[49m\u001b[43m(\u001b[49m\u001b[43mshape\u001b[49m\u001b[43m)\u001b[49m\n",
      "File \u001b[0;32m~/Projects/miniproj/venv/lib/python3.12/site-packages/tinygrad/lazy.py:217\u001b[0m, in \u001b[0;36mLazyBuffer.reshape\u001b[0;34m(self, arg)\u001b[0m\n\u001b[0;32m--> 217\u001b[0m \u001b[38;5;28;01mdef\u001b[39;00m \u001b[38;5;21mreshape\u001b[39m(\u001b[38;5;28mself\u001b[39m, arg:Tuple[sint, \u001b[38;5;241m.\u001b[39m\u001b[38;5;241m.\u001b[39m\u001b[38;5;241m.\u001b[39m]): \u001b[38;5;28;01mreturn\u001b[39;00m \u001b[38;5;28;43mself\u001b[39;49m\u001b[38;5;241;43m.\u001b[39;49m\u001b[43m_view\u001b[49m\u001b[43m(\u001b[49m\u001b[38;5;28;43mself\u001b[39;49m\u001b[38;5;241;43m.\u001b[39;49m\u001b[43mst\u001b[49m\u001b[38;5;241;43m.\u001b[39;49m\u001b[43mreshape\u001b[49m\u001b[43m(\u001b[49m\u001b[43marg\u001b[49m\u001b[43m)\u001b[49m\u001b[43m)\u001b[49m\n",
      "File \u001b[0;32m~/Projects/miniproj/venv/lib/python3.12/site-packages/tinygrad/lazy.py:212\u001b[0m, in \u001b[0;36mLazyBuffer._view\u001b[0;34m(self, new_st)\u001b[0m\n\u001b[1;32m    211\u001b[0m \u001b[38;5;28;01mdef\u001b[39;00m \u001b[38;5;21m_view\u001b[39m(\u001b[38;5;28mself\u001b[39m, new_st:ShapeTracker) \u001b[38;5;241m-\u001b[39m\u001b[38;5;241m>\u001b[39m LazyBuffer:\n\u001b[0;32m--> 212\u001b[0m   \u001b[38;5;28;01mif\u001b[39;00m \u001b[38;5;28;43mself\u001b[39;49m\u001b[38;5;241;43m.\u001b[39;49m\u001b[43mst\u001b[49m\u001b[38;5;241;43m.\u001b[39;49m\u001b[43msize\u001b[49m \u001b[38;5;241m==\u001b[39m \u001b[38;5;241m0\u001b[39m \u001b[38;5;129;01mor\u001b[39;00m (new_st\u001b[38;5;241m.\u001b[39mviews[\u001b[38;5;241m-\u001b[39m\u001b[38;5;241m1\u001b[39m]\u001b[38;5;241m.\u001b[39mmask \u001b[38;5;129;01mis\u001b[39;00m \u001b[38;5;129;01mnot\u001b[39;00m \u001b[38;5;28;01mNone\u001b[39;00m \u001b[38;5;129;01mand\u001b[39;00m \u001b[38;5;28many\u001b[39m((x[\u001b[38;5;241m1\u001b[39m]\u001b[38;5;241m-\u001b[39mx[\u001b[38;5;241m0\u001b[39m]) \u001b[38;5;241m==\u001b[39m \u001b[38;5;241m0\u001b[39m \u001b[38;5;28;01mfor\u001b[39;00m x \u001b[38;5;129;01min\u001b[39;00m new_st\u001b[38;5;241m.\u001b[39mviews[\u001b[38;5;241m-\u001b[39m\u001b[38;5;241m1\u001b[39m]\u001b[38;5;241m.\u001b[39mmask)):\n\u001b[1;32m    213\u001b[0m     \u001b[38;5;28;01mreturn\u001b[39;00m \u001b[38;5;28mself\u001b[39m\u001b[38;5;241m.\u001b[39mconst(\u001b[38;5;241m0\u001b[39m, new_st\u001b[38;5;241m.\u001b[39mshape)\n\u001b[1;32m    214\u001b[0m   \u001b[38;5;28;01mif\u001b[39;00m new_st\u001b[38;5;241m.\u001b[39mcontiguous \u001b[38;5;129;01mand\u001b[39;00m \u001b[38;5;28mself\u001b[39m\u001b[38;5;241m.\u001b[39mbase\u001b[38;5;241m.\u001b[39mshape \u001b[38;5;241m==\u001b[39m new_st\u001b[38;5;241m.\u001b[39mshape: \u001b[38;5;28;01mreturn\u001b[39;00m \u001b[38;5;28mself\u001b[39m\u001b[38;5;241m.\u001b[39mbase\n",
      "File \u001b[0;32m~/Projects/miniproj/venv/lib/python3.12/site-packages/tinygrad/shape/shapetracker.py:47\u001b[0m, in \u001b[0;36mShapeTracker.size\u001b[0;34m(self)\u001b[0m\n\u001b[1;32m     46\u001b[0m \u001b[38;5;129m@property\u001b[39m\n\u001b[0;32m---> 47\u001b[0m \u001b[38;5;28;01mdef\u001b[39;00m \u001b[38;5;21msize\u001b[39m(\u001b[38;5;28mself\u001b[39m) \u001b[38;5;241m-\u001b[39m\u001b[38;5;241m>\u001b[39m \u001b[38;5;28mint\u001b[39m: \u001b[38;5;28;01mreturn\u001b[39;00m \u001b[38;5;28;43mself\u001b[39;49m\u001b[38;5;241;43m.\u001b[39;49m\u001b[43mviews\u001b[49m\u001b[43m[\u001b[49m\u001b[38;5;241;43m-\u001b[39;49m\u001b[38;5;241;43m1\u001b[39;49m\u001b[43m]\u001b[49m\u001b[38;5;241;43m.\u001b[39;49m\u001b[43msize\u001b[49m\u001b[43m(\u001b[49m\u001b[43m)\u001b[49m\n",
      "File \u001b[0;32m<string>:2\u001b[0m, in \u001b[0;36m__hash__\u001b[0;34m(self)\u001b[0m\n",
      "\u001b[0;31mKeyboardInterrupt\u001b[0m: "
     ]
    },
    {
     "ename": "",
     "evalue": "",
     "output_type": "error",
     "traceback": [
      "\u001b[1;31mThe Kernel crashed while executing code in the current cell or a previous cell. \n",
      "\u001b[1;31mPlease review the code in the cell(s) to identify a possible cause of the failure. \n",
      "\u001b[1;31mClick <a href='https://aka.ms/vscodeJupyterKernelCrash'>here</a> for more info. \n",
      "\u001b[1;31mView Jupyter <a href='command:jupyter.viewOutput'>log</a> for further details."
     ]
    }
   ],
   "source": [
    "import time\n",
    "Tensor.training = True\n",
    "Tensor.no_grad = False\n",
    "model = GPT2(GPT2Small)\n",
    "optim = AdamW(get_parameters(model), lr=3e-4)\n",
    "B = 4\n",
    "T = 32\n",
    "dl = DataLoaderLite(4, 32, \"../datasets/shake.txt\")\n",
    "losses = []\n",
    "\n",
    "for i in range(100):\n",
    "    t0 = time.perf_counter()\n",
    "    x, y = dl.next_batch()\n",
    "    optim.zero_grad()\n",
    "    logits, loss = model(x, y)\n",
    "    losses.append(loss.numpy())\n",
    "    loss.backward()\n",
    "    optim.step()\n",
    "    t1 = time.perf_counter()\n",
    "    dt = (t1-t0)*1000\n",
    "    print(f'loss: {loss.numpy()} dt: {dt:.2f}ms tok/sec: {B*T/dt:.2f}')"
   ]
  },
  {
   "cell_type": "code",
   "execution_count": 8,
   "metadata": {},
   "outputs": [
    {
     "data": {
      "text/plain": [
       "dtypes.bfloat16"
      ]
     },
     "execution_count": 8,
     "metadata": {},
     "output_type": "execute_result"
    }
   ],
   "source": [
    "weight = Tensor.ones(5,4, dtype=dtypes.bfloat16)\n",
    "x = Tensor.ones(8,5).cast(dtypes.bfloat16)\n",
    "x.dot(weight).dtype"
   ]
  }
 ],
 "metadata": {
  "kernelspec": {
   "display_name": "venv",
   "language": "python",
   "name": "python3"
  },
  "language_info": {
   "codemirror_mode": {
    "name": "ipython",
    "version": 3
   },
   "file_extension": ".py",
   "mimetype": "text/x-python",
   "name": "python",
   "nbconvert_exporter": "python",
   "pygments_lexer": "ipython3",
   "version": "3.12.3"
  }
 },
 "nbformat": 4,
 "nbformat_minor": 2
}
