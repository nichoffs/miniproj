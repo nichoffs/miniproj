{
 "cells": [
  {
   "cell_type": "code",
   "execution_count": 302,
   "metadata": {},
   "outputs": [],
   "source": [
    "from tinygrad import Tensor, TinyJit\n",
    "from tinygrad.nn.optim import SGD\n",
    "from tinygrad.nn.state import get_parameters\n",
    "import numpy as np\n",
    "from tqdm import tqdm, trange\n",
    "import matplotlib.pyplot as plt"
   ]
  },
  {
   "cell_type": "code",
   "execution_count": 303,
   "metadata": {},
   "outputs": [
    {
     "data": {
      "text/plain": [
       "((4, 2), (4, 1))"
      ]
     },
     "execution_count": 303,
     "metadata": {},
     "output_type": "execute_result"
    }
   ],
   "source": [
    "x = Tensor([[0,0],[0,1],[1,0],[1,1]])\n",
    "y = Tensor([[0],[1],[1],[0]])\n",
    "x.shape, y.shape\n",
    "# ((4, 2), (4, 1))"
   ]
  },
  {
   "cell_type": "code",
   "execution_count": 304,
   "metadata": {},
   "outputs": [],
   "source": [
    "class XOR_Net:\n",
    "    def __init__(self):\n",
    "        self.W1 = Tensor.normal(2, 2, mean=0, std=1)\n",
    "        self.b1 = Tensor.randn(2)\n",
    "        self.W2 = Tensor.randn(2, 1)\n",
    "        self.b2 = Tensor.randn(1)\n",
    "    \n",
    "    def __call__(self, x):\n",
    "        x = x.linear(self.W1, self.b1).sigmoid()\n",
    "        x = x.linear(self.W2, self.b2)\n",
    "        return x\n",
    "    \n",
    "    def int_output(self, x):\n",
    "        return [int(i[0]) for i in self(x).round().numpy().tolist()]"
   ]
  },
  {
   "cell_type": "code",
   "execution_count": 305,
   "metadata": {},
   "outputs": [],
   "source": [
    "model = XOR_Net()\n",
    "optim = SGD(get_parameters(model), lr=0.01, momentum=0.9)"
   ]
  },
  {
   "cell_type": "code",
   "execution_count": 306,
   "metadata": {},
   "outputs": [],
   "source": [
    "def train(model, x, y, optim, steps, allow_jit=True):\n",
    "\n",
    "  def train_step(x, y):\n",
    "    out = model(x)\n",
    "    loss = ((out - y) ** 2).mean()\n",
    "    optim.zero_grad()\n",
    "    loss.backward()\n",
    "    optim.step()\n",
    "    return loss.realize()\n",
    "\n",
    "  if allow_jit: train_step = TinyJit(train_step)\n",
    "\n",
    "  with Tensor.train():\n",
    "    losses, accuracies = [], []\n",
    "    for i in (t := trange(steps)):\n",
    "      loss = train_step(x, y).numpy()\n",
    "      losses.append(loss)\n",
    "      t.set_description(\"loss %.2f\" % loss)\n",
    "  return losses"
   ]
  },
  {
   "cell_type": "code",
   "execution_count": 307,
   "metadata": {},
   "outputs": [
    {
     "name": "stderr",
     "output_type": "stream",
     "text": [
      "loss 0.25: 100%|██████████| 7500/7500 [00:06<00:00, 1166.14it/s]\n"
     ]
    }
   ],
   "source": [
    "losses = train(model, x, y, optim, 7500)\n",
    "#loss 0.00: 100%|██████████| 7500/7500 [00:06<00:00, 1194.23it/s]"
   ]
  },
  {
   "cell_type": "code",
   "execution_count": 273,
   "metadata": {},
   "outputs": [
    {
     "data": {
      "text/plain": [
       "[0, 1, 1, 0]"
      ]
     },
     "execution_count": 273,
     "metadata": {},
     "output_type": "execute_result"
    }
   ],
   "source": [
    "model.int_output(x)"
   ]
  },
  {
   "cell_type": "code",
   "execution_count": 299,
   "metadata": {},
   "outputs": [],
   "source": [
    "def meshgrid(x, y):\n",
    "  grid_x = Tensor.cat(*[x[idx:idx+1].expand(y.shape).unsqueeze(0) for idx in range(x.shape[0])])\n",
    "  grid_y = Tensor.cat(*[y.unsqueeze(0)]*x.shape[0])\n",
    "  return Tensor.cat(grid_x.reshape(-1, 1), grid_y.reshape(-1, 1), dim=1)"
   ]
  },
  {
   "cell_type": "code",
   "execution_count": 300,
   "metadata": {},
   "outputs": [
    {
     "data": {
      "image/png": "[encoded data removed]",
      "text/plain": [
       "<Figure size 640x480 with 2 Axes>"
      ]
     },
     "metadata": {},
     "output_type": "display_data"
    }
   ],
   "source": [
    "# Creating grid points in the input space\n",
    "x_grid = Tensor.arange(0,1,.01)\n",
    "y_grid = Tensor.arange(0,1,.01)\n",
    "grid_points = meshgrid(x_grid, y_grid)\n",
    "\n",
    "# Use the model to predict over the entire grid\n",
    "predictions = model.int_output(grid_points)\n",
    "\n",
    "# Convert the predictions to a numpy array and reshape for plotting\n",
    "predictions_array = np.array(predictions).reshape(100, 100)\n",
    "\n",
    "# Plotting\n",
    "plt.contourf(x_grid.numpy(), y_grid.numpy(), predictions_array, levels=[0, 0.5, 1], cmap='RdGy')\n",
    "plt.colorbar()\n",
    "plt.scatter([0, 1], [0, 1], color='red', label='Output 1')\n",
    "plt.scatter([0, 1], [1, 0], color='blue', label='Output 0')\n",
    "plt.title('XOR Decision Boundary')\n",
    "plt.xlabel('Input 1')\n",
    "plt.ylabel('Input 2')\n",
    "plt.legend()\n",
    "plt.show()"
   ]
  },
  {
   "cell_type": "code",
   "execution_count": null,
   "metadata": {},
   "outputs": [],
   "source": []
  }
 ],
 "metadata": {
  "kernelspec": {
   "display_name": "venv",
   "language": "python",
   "name": "python3"
  },
  "language_info": {
   "codemirror_mode": {
    "name": "ipython",
    "version": 3
   },
   "file_extension": ".py",
   "mimetype": "text/x-python",
   "name": "python",
   "nbconvert_exporter": "python",
   "pygments_lexer": "ipython3",
   "version": "3.12.3"
  }
 },
 "nbformat": 4,
 "nbformat_minor": 2
}
